{
 "cells": [
  {
   "cell_type": "markdown",
   "id": "31dc5e14-29c5-427f-901e-f981c939de0a",
   "metadata": {},
   "source": [
    "## Q11 to Q15 are programming questions. Answer them in Jupyter Notebook."
   ]
  },
  {
   "cell_type": "raw",
   "id": "c325e39e-420d-4bef-8293-7cdbaa9e9d53",
   "metadata": {},
   "source": [
    "\n",
    "11. Write a python program to find the factorial of a number.\n",
    "12. Write a python program to find whether a number is prime or composite.\n",
    "13. Write a python program to check whether a given string is palindrome or not.\n",
    "14. Write a Python program to get the third side of right-angled triangle from two given sides.\n",
    "15. Writeapythonprogramtoprintthefrequencyofeachofthecharacterspresentinagivenstring."
   ]
  },
  {
   "cell_type": "markdown",
   "id": "b7117e4f-c9e4-45fd-a018-551465b3cd98",
   "metadata": {},
   "source": [
    "### __11. Write a python program to find the factorial of a number.__"
   ]
  },
  {
   "cell_type": "code",
   "execution_count": 9,
   "id": "19d32206-404f-46bc-8914-9e761db223ac",
   "metadata": {},
   "outputs": [
    {
     "name": "stdin",
     "output_type": "stream",
     "text": [
      "Enter a number:  6\n"
     ]
    },
    {
     "name": "stdout",
     "output_type": "stream",
     "text": [
      "The factorial of 6 is 720\n"
     ]
    }
   ],
   "source": [
    "#To take input from the user and convert it integer(int)\n",
    "\n",
    "num = int(input(\"Enter a number: \"))\n",
    "\n",
    "factorial = 1\n",
    "\n",
    "# check if the number is negative, positive or zero\n",
    "if num < 0:\n",
    "   print(\"Sorry, factorial does not exist for negative numbers\")\n",
    "elif num == 0:\n",
    "   print(\"The factorial of 0 is 1\")\n",
    "else:\n",
    "   for i in range(1,num + 1):\n",
    "       factorial = factorial*i\n",
    "   print(\"The factorial of\",num,\"is\",factorial)       "
   ]
  },
  {
   "cell_type": "code",
   "execution_count": null,
   "id": "4074d8ab-534e-4041-9385-7f677e12dbdb",
   "metadata": {},
   "outputs": [],
   "source": []
  },
  {
   "cell_type": "markdown",
   "id": "799eb830-2428-4b5c-807a-4a5485607385",
   "metadata": {},
   "source": [
    "### Let's put the program inside a factorial function"
   ]
  },
  {
   "cell_type": "markdown",
   "id": "ba88bb4e-447b-4f2f-b91d-07c417b07b5e",
   "metadata": {},
   "source": [
    "##### 1 ) without the  return keyword."
   ]
  },
  {
   "cell_type": "code",
   "execution_count": 14,
   "id": "fe6ca3b5-31cb-430a-97cf-107c80a7982b",
   "metadata": {},
   "outputs": [
    {
     "name": "stdin",
     "output_type": "stream",
     "text": [
      "Enter a number:  4\n"
     ]
    },
    {
     "name": "stdout",
     "output_type": "stream",
     "text": [
      "The factorial of 4 is 24\n"
     ]
    }
   ],
   "source": [
    "# 1 ) without return keyword\n",
    "\n",
    "def factorial_funct_1(*args):\n",
    "    num = int(input(\"Enter a number: \"))\n",
    "    factorial = 1\n",
    "\n",
    "# check if the number is negative, positive or zero\n",
    "    if num < 0:\n",
    "        print(\"Sorry, factorial does not exist for negative numbers\")\n",
    "    elif num == 0:\n",
    "        print(\"The factorial of 0 is 1\")\n",
    "    else:\n",
    "        for i in range(1,num + 1):\n",
    "            factorial = factorial*i\n",
    "        print(\"The factorial of\",num,\"is\",factorial)\n",
    "factorial_funct_1()"
   ]
  },
  {
   "cell_type": "markdown",
   "id": "dd3f96c7-7548-42db-9b00-20432e96e136",
   "metadata": {},
   "source": [
    "##### 2 ) Using the  return keyword and call the fuction anywhere."
   ]
  },
  {
   "cell_type": "code",
   "execution_count": 6,
   "id": "89d216e8-6f69-4ea7-8ec1-14f8ad595d97",
   "metadata": {},
   "outputs": [],
   "source": [
    "# 2 ) Using the  return keyword and call the fuction anywhere\n",
    "\n",
    "def factorial_funct_2(*args):\n",
    "    ## Here *args allow your to enter any numbers of args you whish\n",
    "    num = int(input(\"Enter a number: \"))\n",
    "    factorial = 1\n",
    "\n",
    "# check if the number is negative, positive or zero\n",
    "    if num < 0:\n",
    "        print(\"Sorry, factorial does not exist for negative numbers\")\n",
    "    elif num == 0:\n",
    "        print(\"The factorial of 0 is 1\")\n",
    "    else:\n",
    "        for i in range(1,num + 1):\n",
    "            factorial = factorial*i\n",
    "    return print(\"The factorial of\",num,\"is\",factorial)  \n",
    "  "
   ]
  },
  {
   "cell_type": "code",
   "execution_count": 7,
   "id": "6f88c5da-932f-4bf6-9726-cdf70eeaaad0",
   "metadata": {},
   "outputs": [
    {
     "name": "stdin",
     "output_type": "stream",
     "text": [
      "Enter a number:  5\n"
     ]
    },
    {
     "name": "stdout",
     "output_type": "stream",
     "text": [
      "The factorial of 5 is 120\n"
     ]
    }
   ],
   "source": [
    "factorial_funct_2()"
   ]
  },
  {
   "cell_type": "markdown",
   "id": "2b415b72-1b4d-4b2e-a1ba-edb5b2b084ed",
   "metadata": {},
   "source": [
    "### __12. Write a python program to find whether a number is prime or composite.__"
   ]
  },
  {
   "cell_type": "code",
   "execution_count": 127,
   "id": "351e2708-01d0-4408-b46f-6b45f633d62c",
   "metadata": {},
   "outputs": [
    {
     "name": "stdin",
     "output_type": "stream",
     "text": [
      "Enter any number :  9\n"
     ]
    },
    {
     "name": "stdout",
     "output_type": "stream",
     "text": [
      "(9, 'is a composite number!')\n"
     ]
    }
   ],
   "source": [
    "def composite(*args):\n",
    "    num = int(input(\"Enter any number : \"))\n",
    "    if num <=1:\n",
    "        return(num,\"is a either prime Nor composite Number,thank you\")\n",
    "    else:\n",
    "        for x in range(2,n):\n",
    "            if num%x==0:\n",
    "                return(num,\"is a composite number!\")\n",
    "        return(num,\"is a either prime NOR composite number!\")\n",
    "\n",
    "print(composite())    "
   ]
  },
  {
   "cell_type": "code",
   "execution_count": null,
   "id": "d0e6383a-699b-4a4e-ad8d-fee0998cfff7",
   "metadata": {},
   "outputs": [],
   "source": []
  },
  {
   "cell_type": "markdown",
   "id": "3782ea02-dcb9-476f-b12d-de530f2a4fa7",
   "metadata": {},
   "source": [
    "### __13. Write a python program to check whether a given string is palindrome or not.__\n"
   ]
  },
  {
   "cell_type": "markdown",
   "id": "22453a2d-861e-4b3a-b94e-aa0b7a42a238",
   "metadata": {},
   "source": []
  },
  {
   "cell_type": "code",
   "execution_count": 222,
   "id": "16576f55-f0a8-43ff-96bc-94626f3f67a1",
   "metadata": {},
   "outputs": [
    {
     "name": "stdin",
     "output_type": "stream",
     "text": [
      "Enter a string :  oussuo\n"
     ]
    },
    {
     "name": "stdout",
     "output_type": "stream",
     "text": [
      "Given string is palindrome\n"
     ]
    }
   ],
   "source": [
    "flag = True\n",
    "string = input(\"Enter a string : \")\n",
    "string = string.lower().strip();   \n",
    "#Iterate the string forward and backward, compare one character at a time   \n",
    "#till middle of the string is reached  \n",
    "\n",
    "for i in range(0, len(string)//2):  \n",
    "    if(string[i] != string[len(string)-i-1]):  \n",
    "        flag = False;  \n",
    "        break;  \n",
    "if(flag):  \n",
    "    print(\"Given string is palindrome\");  \n",
    "else:  \n",
    "    print(\"Given string is not a palindrome\");  "
   ]
  },
  {
   "cell_type": "markdown",
   "id": "7744d350-b954-475d-82aa-372413270bb3",
   "metadata": {},
   "source": [
    "### __14. Write a Python program to get the third side of right-angled triangle from two given sides.__"
   ]
  },
  {
   "cell_type": "markdown",
   "id": "ce282cd3-cce3-4a76-a0fe-4b6f6e867819",
   "metadata": {},
   "source": [
    "#### __a^2 + b^2 = c^2__  is pythagoras theorem formula for a given Triangel\n",
    "##### __a=side of right triangle__\n",
    "##### __b=side of right triangle__\n",
    "##### __c=hypotenuse__"
   ]
  },
  {
   "cell_type": "code",
   "execution_count": 229,
   "id": "fbc7ee56-c72e-455d-8bb9-ec9357fcf8bc",
   "metadata": {},
   "outputs": [
    {
     "name": "stdout",
     "output_type": "stream",
     "text": [
      "Hypotenuse = 5.0\n",
      "Adjacent = 4.0\n",
      "Opposite = 3.0\n",
      "You know the answer!\n"
     ]
    }
   ],
   "source": [
    "def pythagor_funct(opposite_side,adjacent_side,hypotenuse):\n",
    "        if opposite_side == str('x'):\n",
    "            return (\"Opposite = \" + str(((hypotenuse**2) - (adjacent_side**2))**0.5))\n",
    "        elif adjacent_side == str(\"x\"):\n",
    "            return (\"Adjacent = \" + str(((hypotenuse**2) - (opposite_side**2))**0.5))\n",
    "        elif hypotenuse == str(\"x\"):\n",
    "            return (\"Hypotenuse = \" + str(((opposite_side**2) + (adjacent_side**2))**0.5))\n",
    "        else:\n",
    "            return \"You know the answer!\"\n",
    "print(pythagor_funct(3,4,'x'))\n",
    "print(pythagor_funct(3,'x',5))\n",
    "print(pythagor_funct('x',4,5))\n",
    "print(pythagor_funct(3,4,5))"
   ]
  },
  {
   "cell_type": "code",
   "execution_count": 234,
   "id": "5587f534-8401-4eae-beea-e0209753d328",
   "metadata": {},
   "outputs": [
    {
     "name": "stdout",
     "output_type": "stream",
     "text": [
      "25\n",
      "25\n"
     ]
    }
   ],
   "source": [
    "## let's verify the result for the Hypotenus = 5 first line of the output\n",
    "\n",
    "x = 4**2 + 3**2 \n",
    "y = 5**2\n",
    "print(x)\n",
    "print(y)"
   ]
  },
  {
   "cell_type": "code",
   "execution_count": null,
   "id": "bd9d2f84-0f62-43d0-8b94-d7854aee94a9",
   "metadata": {},
   "outputs": [],
   "source": []
  },
  {
   "cell_type": "markdown",
   "id": "18dfd82a-e2ee-4b02-bc34-08d75b18d696",
   "metadata": {},
   "source": [
    "### __15. Write a python program to print the frequency of each of the characters present in a given string.__"
   ]
  },
  {
   "cell_type": "code",
   "execution_count": 255,
   "id": "d9096399-f993-493b-93c6-faeccb074af1",
   "metadata": {},
   "outputs": [],
   "source": []
  },
  {
   "cell_type": "code",
   "execution_count": 272,
   "id": "a5a5caa0-55e9-40e8-b23d-15b6f613a566",
   "metadata": {},
   "outputs": [
    {
     "name": "stdin",
     "output_type": "stream",
     "text": [
      " fliprobot fliprobot fliprobot fliprobot Delhi Noida Noida Noida Noida Mumbai Bangalore\n"
     ]
    },
    {
     "name": "stdout",
     "output_type": "stream",
     "text": [
      "Frequency of fliprobot is : 4\n",
      "Frequency of Delhi is : 1\n",
      "Frequency of Noida is : 4\n",
      "Frequency of Mumbai is : 1\n",
      "Frequency of Bangalore is : 1\n"
     ]
    }
   ],
   "source": [
    "\n",
    "def frequency_word(*args):\n",
    "    # split le string en une liste de mots et crèe une liste vide\n",
    "    str1 = input()\n",
    "    str1 = str1.split()       \n",
    "    str2 = []\n",
    "  \n",
    "    # use loop \n",
    "    for i in str1:             \n",
    "        \"\"\"Here we cheking the strings in str1 after splitted them\n",
    "        insert it into the list, str2[] x_string is not in  str2[]\n",
    "        \"\"\"\n",
    "        if i not in str2:\n",
    "  \n",
    "            \"\"\"insert value in str2 (unique value) \"\"\"\n",
    "            str2.append(i) \n",
    "              \n",
    "    for i in range(0, len(str2)):\n",
    "        \n",
    "        \"\"\"count the frequency of each word(present in str2[] and print the results) \"\"\"\n",
    "        \n",
    "        print('Frequency of', str2[i], 'is :', str1.count(str2[i]))\n",
    "frequency_word()        \n"
   ]
  },
  {
   "cell_type": "code",
   "execution_count": 271,
   "id": "bbdec2b9-2251-4f0f-8054-485f26dd88ad",
   "metadata": {},
   "outputs": [
    {
     "name": "stdin",
     "output_type": "stream",
     "text": [
      " 123 123 je suis la 123 123\n"
     ]
    },
    {
     "name": "stdout",
     "output_type": "stream",
     "text": [
      "Frequency of 123 is : 4\n",
      "Frequency of je is : 1\n",
      "Frequency of suis is : 1\n",
      "Frequency of la is : 1\n"
     ]
    }
   ],
   "source": [
    "## Let's try it again\n",
    "frequency_word()"
   ]
  },
  {
   "cell_type": "markdown",
   "id": "a74dd18a-bb13-4192-b0c1-56dd1178c148",
   "metadata": {},
   "source": [
    "## End of Python programs"
   ]
  },
  {
   "cell_type": "code",
   "execution_count": 4,
   "id": "07cca866-76c6-4eab-81e2-2db527f03a37",
   "metadata": {},
   "outputs": [],
   "source": [
    "def is_palindrome(input_string):\n",
    "    new_string = input_string.strip()\n",
    "    reverse_string = []\n",
    "    for i in range(-1,len(new_string)):\n",
    "        reverse_string.append(i)\n",
    "        if new_string == reverse_string:\n",
    "            print('yes')\n",
    "        else:\n",
    "            print('False')\n",
    "is_palindrome(\"kayak\")"
   ]
  },
  {
   "cell_type": "code",
   "execution_count": 32,
   "id": "5db7aac2-1786-41de-a222-c5f4e50bcad1",
   "metadata": {},
   "outputs": [],
   "source": [
    "arr = [1,2,3,4,5,6]"
   ]
  },
  {
   "cell_type": "code",
   "execution_count": 12,
   "id": "608c772d-8522-45e5-ae14-b61ce2e01ab2",
   "metadata": {},
   "outputs": [
    {
     "name": "stdout",
     "output_type": "stream",
     "text": [
      "range(6, -1)\n"
     ]
    }
   ],
   "source": [
    "print(range(len(arr),-1))"
   ]
  },
  {
   "cell_type": "code",
   "execution_count": 35,
   "id": "bc7d9313-ec52-4d57-8fe8-579def59a9c0",
   "metadata": {},
   "outputs": [],
   "source": [
    "arr1 = list(range(len(arr),-1))"
   ]
  },
  {
   "cell_type": "code",
   "execution_count": 37,
   "id": "bbfb3110-38ad-4910-9237-c8944e5b8c4a",
   "metadata": {},
   "outputs": [],
   "source": [
    "for x in list(range(len(arr))):\n",
    "    print(x)"
   ]
  },
  {
   "cell_type": "code",
   "execution_count": null,
   "id": "3492f93a-63d0-459d-845b-95f1ac4bc9bb",
   "metadata": {},
   "outputs": [],
   "source": []
  },
  {
   "cell_type": "code",
   "execution_count": 36,
   "id": "dfbec5f0-af00-4b62-8433-ef3022465e7e",
   "metadata": {},
   "outputs": [
    {
     "data": {
      "text/plain": [
       "[]"
      ]
     },
     "execution_count": 36,
     "metadata": {},
     "output_type": "execute_result"
    }
   ],
   "source": [
    "arr1"
   ]
  },
  {
   "cell_type": "code",
   "execution_count": 79,
   "id": "f59a07d0-7db0-45f0-94bc-8f2163a07b58",
   "metadata": {},
   "outputs": [],
   "source": [
    "x ='kayak'\n",
    "v = x.split()\n",
    "\n",
    "w = [i for i in x]\n",
    "y = [i for i in x]\n",
    "y.reverse()\n"
   ]
  },
  {
   "cell_type": "code",
   "execution_count": 94,
   "id": "fbc77e32-adad-40b0-bdfc-3e8876078009",
   "metadata": {},
   "outputs": [
    {
     "name": "stdin",
     "output_type": "stream",
     "text": [
      "enter the string kayak\n"
     ]
    },
    {
     "name": "stdout",
     "output_type": "stream",
     "text": [
      "True kayak is a palindrome\n"
     ]
    }
   ],
   "source": [
    "def palindrome(x = input('enter the string')):\n",
    "    \n",
    "    x = x.strip()\n",
    "    w = [i for i in x]\n",
    "    y = [i for i in x]\n",
    "    y.reverse()\n",
    "    \n",
    "    if w==y:\n",
    "        print('True',x,'is a palindrome')\n",
    "    else:\n",
    "        print('False',x,'is not a palindrome')\n",
    "palindrome()"
   ]
  },
  {
   "cell_type": "code",
   "execution_count": 1,
   "id": "630eaee9-5d93-4c39-85af-5e24a03217b0",
   "metadata": {},
   "outputs": [
    {
     "data": {
      "text/plain": [
       "'/Users/olivierla412/projects/demo'"
      ]
     },
     "execution_count": 1,
     "metadata": {},
     "output_type": "execute_result"
    }
   ],
   "source": [
    "pwd\n"
   ]
  },
  {
   "cell_type": "code",
   "execution_count": null,
   "id": "c76face3-52df-4a92-b852-048c6395ba24",
   "metadata": {},
   "outputs": [],
   "source": []
  }
 ],
 "metadata": {
  "kernelspec": {
   "display_name": "Python 3",
   "language": "python",
   "name": "python3"
  },
  "language_info": {
   "codemirror_mode": {
    "name": "ipython",
    "version": 3
   },
   "file_extension": ".py",
   "mimetype": "text/x-python",
   "name": "python",
   "nbconvert_exporter": "python",
   "pygments_lexer": "ipython3",
   "version": "3.8.2"
  }
 },
 "nbformat": 4,
 "nbformat_minor": 5
}
